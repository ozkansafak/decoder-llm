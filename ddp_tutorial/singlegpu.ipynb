{
 "cells": [
  {
   "cell_type": "code",
   "execution_count": 1,
   "id": "0c3d9328",
   "metadata": {},
   "outputs": [
    {
     "name": "stdout",
     "output_type": "stream",
     "text": [
      "CPU times: user 312 ms, sys: 81.1 ms, total: 393 ms\n",
      "Wall time: 434 ms\n"
     ]
    }
   ],
   "source": [
    "%%time \n",
    "%reload_ext autoreload\n",
    "%autoreload 2\n",
    "import os, sys\n",
    "os.environ[\"CUDA_DEVICE_ORDER\"] = \"PCI_BUS_ID\"\n",
    "os.environ[\"CUDA_VISIBLE_DEVICES\"] = \"0,1,2,3,4,5,6,7\"\n",
    "\n",
    "import torch\n",
    "import ipdb\n",
    "import torch.nn.functional as F\n",
    "from torch.utils.data import Dataset, DataLoader\n",
    "from datautils import MyTrainDataset\n",
    "import torch.multiprocessing as mp\n",
    "from torch.utils.data.distributed import DistributedSampler  # distributes data across GPUs\n",
    "from torch.nn.parallel import DistributedDataParallel as DDP\n",
    "from torch.distributed import init_process_group, destroy_process_group"
   ]
  },
  {
   "cell_type": "markdown",
   "id": "8c45a804",
   "metadata": {},
   "source": [
    "---\n",
    "\n",
    "### Multi-GPU training with DDP  `https://www.youtube.com/watch?v=-LAtx9Q6DA8`"
   ]
  },
  {
   "cell_type": "code",
   "execution_count": 3,
   "id": "29ca5f96",
   "metadata": {
    "scrolled": true
   },
   "outputs": [
    {
     "name": "stdout",
     "output_type": "stream",
     "text": [
      "[GPU0] Epoch 0 | Batchsize: 32 | Steps: 64\n",
      "Epoch 0 | Training checkpoint saved at checkpoint.pt\n",
      "[GPU0] Epoch 1 | Batchsize: 32 | Steps: 64\n",
      "[GPU0] Epoch 2 | Batchsize: 32 | Steps: 64\n",
      "[GPU0] Epoch 3 | Batchsize: 32 | Steps: 64\n",
      "[GPU0] Epoch 4 | Batchsize: 32 | Steps: 64\n",
      "[GPU0] Epoch 5 | Batchsize: 32 | Steps: 64\n",
      "[GPU0] Epoch 6 | Batchsize: 32 | Steps: 64\n",
      "[GPU0] Epoch 7 | Batchsize: 32 | Steps: 64\n",
      "[GPU0] Epoch 8 | Batchsize: 32 | Steps: 64\n",
      "[GPU0] Epoch 9 | Batchsize: 32 | Steps: 64\n",
      "[GPU0] Epoch 10 | Batchsize: 32 | Steps: 64\n",
      "Epoch 10 | Training checkpoint saved at checkpoint.pt\n",
      "[GPU0] Epoch 11 | Batchsize: 32 | Steps: 64\n",
      "[GPU0] Epoch 12 | Batchsize: 32 | Steps: 64\n",
      "[GPU0] Epoch 13 | Batchsize: 32 | Steps: 64\n",
      "[GPU0] Epoch 14 | Batchsize: 32 | Steps: 64\n",
      "[GPU0] Epoch 15 | Batchsize: 32 | Steps: 64\n",
      "[GPU0] Epoch 16 | Batchsize: 32 | Steps: 64\n",
      "[GPU0] Epoch 17 | Batchsize: 32 | Steps: 64\n",
      "[GPU0] Epoch 18 | Batchsize: 32 | Steps: 64\n",
      "[GPU0] Epoch 19 | Batchsize: 32 | Steps: 64\n",
      "[GPU0] Epoch 20 | Batchsize: 32 | Steps: 64\n",
      "Epoch 20 | Training checkpoint saved at checkpoint.pt\n",
      "[GPU0] Epoch 21 | Batchsize: 32 | Steps: 64\n",
      "[GPU0] Epoch 22 | Batchsize: 32 | Steps: 64\n",
      "[GPU0] Epoch 23 | Batchsize: 32 | Steps: 64\n",
      "[GPU0] Epoch 24 | Batchsize: 32 | Steps: 64\n",
      "[GPU0] Epoch 25 | Batchsize: 32 | Steps: 64\n",
      "[GPU0] Epoch 26 | Batchsize: 32 | Steps: 64\n",
      "[GPU0] Epoch 27 | Batchsize: 32 | Steps: 64\n",
      "[GPU0] Epoch 28 | Batchsize: 32 | Steps: 64\n",
      "[GPU0] Epoch 29 | Batchsize: 32 | Steps: 64\n",
      "[GPU0] Epoch 30 | Batchsize: 32 | Steps: 64\n",
      "Epoch 30 | Training checkpoint saved at checkpoint.pt\n",
      "[GPU0] Epoch 31 | Batchsize: 32 | Steps: 64\n",
      "[GPU0] Epoch 32 | Batchsize: 32 | Steps: 64\n",
      "[GPU0] Epoch 33 | Batchsize: 32 | Steps: 64\n",
      "[GPU0] Epoch 34 | Batchsize: 32 | Steps: 64\n",
      "[GPU0] Epoch 35 | Batchsize: 32 | Steps: 64\n",
      "[GPU0] Epoch 36 | Batchsize: 32 | Steps: 64\n",
      "[GPU0] Epoch 37 | Batchsize: 32 | Steps: 64\n",
      "[GPU0] Epoch 38 | Batchsize: 32 | Steps: 64\n",
      "[GPU0] Epoch 39 | Batchsize: 32 | Steps: 64\n",
      "[GPU0] Epoch 40 | Batchsize: 32 | Steps: 64\n",
      "Epoch 40 | Training checkpoint saved at checkpoint.pt\n",
      "[GPU0] Epoch 41 | Batchsize: 32 | Steps: 64\n",
      "[GPU0] Epoch 42 | Batchsize: 32 | Steps: 64\n",
      "[GPU0] Epoch 43 | Batchsize: 32 | Steps: 64\n",
      "[GPU0] Epoch 44 | Batchsize: 32 | Steps: 64\n",
      "[GPU0] Epoch 45 | Batchsize: 32 | Steps: 64\n",
      "[GPU0] Epoch 46 | Batchsize: 32 | Steps: 64\n",
      "[GPU0] Epoch 47 | Batchsize: 32 | Steps: 64\n",
      "[GPU0] Epoch 48 | Batchsize: 32 | Steps: 64\n",
      "[GPU0] Epoch 49 | Batchsize: 32 | Steps: 64\n"
     ]
    },
    {
     "ename": "NameError",
     "evalue": "name 'plt' is not defined",
     "output_type": "error",
     "traceback": [
      "\u001b[0;31m---------------------------------------------------------------------------\u001b[0m",
      "\u001b[0;31mNameError\u001b[0m                                 Traceback (most recent call last)",
      "Cell \u001b[0;32mIn[3], line 67\u001b[0m\n\u001b[1;32m     65\u001b[0m list_loss \u001b[38;5;241m=\u001b[39m []\n\u001b[1;32m     66\u001b[0m main()\n\u001b[0;32m---> 67\u001b[0m \u001b[43mplt\u001b[49m\u001b[38;5;241m.\u001b[39mplot(list_loss, alpha\u001b[38;5;241m=\u001b[39m\u001b[38;5;241m.5\u001b[39m)\n",
      "\u001b[0;31mNameError\u001b[0m: name 'plt' is not defined"
     ]
    }
   ],
   "source": [
    "class Trainer:\n",
    "    def __init__(\n",
    "        self,\n",
    "        model: torch.nn.Module,\n",
    "        train_data: DataLoader,\n",
    "        optimizer: torch.optim.Optimizer,\n",
    "        rank: int,\n",
    "        save_every: int, \n",
    "    ) -> None:\n",
    "        \n",
    "        self.rank = rank\n",
    "        self.model = model.to(rank)\n",
    "        self.train_data = train_data\n",
    "        self.optimizer = optimizer\n",
    "        self.save_every = save_every\n",
    "\n",
    "    def _run_batch(self, source, targets):\n",
    "        self.optimizer.zero_grad()\n",
    "        output = self.model(source)\n",
    "        \n",
    "        loss = F.cross_entropy(output, targets.view(-1))\n",
    "        loss.backward()\n",
    "        list_loss.append(loss.item())\n",
    "        self.optimizer.step()\n",
    "\n",
    "    def _run_epoch(self, epoch):\n",
    "        batch_size = len(next(iter(self.train_data))[0])\n",
    "        print(f\"[GPU{self.rank}] Epoch {epoch} | Batchsize: {batch_size} | Steps: {len(self.train_data)}\")\n",
    "        for source, targets in self.train_data:\n",
    "            source = source.to(self.rank)\n",
    "            targets = targets.to(self.rank)\n",
    "            self._run_batch(source, targets)\n",
    "\n",
    "    def _save_checkpoint(self, epoch):\n",
    "        ckp = self.model.state_dict()\n",
    "        PATH = \"checkpoint.pt\"\n",
    "        torch.save(ckp, PATH)\n",
    "        print(f\"Epoch {epoch} | Training checkpoint saved at {PATH}\")\n",
    "\n",
    "    def train(self, max_epochs: int):\n",
    "        for epoch in range(max_epochs):\n",
    "            self._run_epoch(epoch)\n",
    "            if epoch % self.save_every == 0:\n",
    "                self._save_checkpoint(epoch)\n",
    "\n",
    "\n",
    "def prepare_dataloader(dataset: Dataset, batch_size: int):\n",
    "    return DataLoader(\n",
    "        dataset,\n",
    "        batch_size=batch_size,\n",
    "        pin_memory=True,\n",
    "        shuffle=True\n",
    "    )\n",
    "\n",
    "def main(total_epochs=50, save_every=10, batch_size=32):\n",
    "    train_set = MyTrainDataset(2048)  # load your dataset\n",
    "    model = torch.nn.Linear(20, 5)  # load your model\n",
    "    optimizer = torch.optim.SGD(model.parameters(), lr=1e-3)\n",
    "\n",
    "    train_data = DataLoader(train_set, batch_size=batch_size, pin_memory=True, shuffle=True)\n",
    "    trainer = Trainer(model, train_data, optimizer, device, save_every)\n",
    "    trainer.train(total_epochs)\n",
    "    \n",
    "device = 0  # shorthand for cuda:0\n",
    "list_loss = []\n",
    "main()\n",
    "plt.plot(list_loss, alpha=.5)"
   ]
  },
  {
   "cell_type": "code",
   "execution_count": 5,
   "id": "a1fe7184",
   "metadata": {},
   "outputs": [
    {
     "name": "stdout",
     "output_type": "stream",
     "text": [
      "torch.Size([32, 20]) torch.Size([32, 1])\n",
      "torch.Size([32, 20]) torch.Size([32, 1])\n",
      "torch.Size([32, 20]) torch.Size([32, 1])\n",
      "torch.Size([32, 20]) torch.Size([32, 1])\n",
      "torch.Size([32, 20]) torch.Size([32, 1])\n",
      "torch.Size([32, 20]) torch.Size([32, 1])\n",
      "torch.Size([32, 20]) torch.Size([32, 1])\n",
      "torch.Size([32, 20]) torch.Size([32, 1])\n",
      "torch.Size([32, 20]) torch.Size([32, 1])\n",
      "torch.Size([32, 20]) torch.Size([32, 1])\n",
      "torch.Size([32, 20]) torch.Size([32, 1])\n",
      "torch.Size([32, 20]) torch.Size([32, 1])\n",
      "torch.Size([32, 20]) torch.Size([32, 1])\n",
      "torch.Size([32, 20]) torch.Size([32, 1])\n",
      "torch.Size([32, 20]) torch.Size([32, 1])\n",
      "torch.Size([32, 20]) torch.Size([32, 1])\n",
      "torch.Size([32, 20]) torch.Size([32, 1])\n",
      "torch.Size([32, 20]) torch.Size([32, 1])\n",
      "torch.Size([32, 20]) torch.Size([32, 1])\n",
      "torch.Size([32, 20]) torch.Size([32, 1])\n",
      "torch.Size([32, 20]) torch.Size([32, 1])\n",
      "torch.Size([32, 20]) torch.Size([32, 1])\n",
      "torch.Size([32, 20]) torch.Size([32, 1])\n",
      "torch.Size([32, 20]) torch.Size([32, 1])\n",
      "torch.Size([32, 20]) torch.Size([32, 1])\n",
      "torch.Size([32, 20]) torch.Size([32, 1])\n",
      "torch.Size([32, 20]) torch.Size([32, 1])\n",
      "torch.Size([32, 20]) torch.Size([32, 1])\n",
      "torch.Size([32, 20]) torch.Size([32, 1])\n",
      "torch.Size([32, 20]) torch.Size([32, 1])\n",
      "torch.Size([32, 20]) torch.Size([32, 1])\n",
      "torch.Size([32, 20]) torch.Size([32, 1])\n",
      "torch.Size([32, 20]) torch.Size([32, 1])\n",
      "torch.Size([32, 20]) torch.Size([32, 1])\n",
      "torch.Size([32, 20]) torch.Size([32, 1])\n",
      "torch.Size([32, 20]) torch.Size([32, 1])\n",
      "torch.Size([32, 20]) torch.Size([32, 1])\n",
      "torch.Size([32, 20]) torch.Size([32, 1])\n",
      "torch.Size([32, 20]) torch.Size([32, 1])\n",
      "torch.Size([32, 20]) torch.Size([32, 1])\n",
      "torch.Size([32, 20]) torch.Size([32, 1])\n",
      "torch.Size([32, 20]) torch.Size([32, 1])\n",
      "torch.Size([32, 20]) torch.Size([32, 1])\n",
      "torch.Size([32, 20]) torch.Size([32, 1])\n",
      "torch.Size([32, 20]) torch.Size([32, 1])\n",
      "torch.Size([32, 20]) torch.Size([32, 1])\n",
      "torch.Size([32, 20]) torch.Size([32, 1])\n",
      "torch.Size([32, 20]) torch.Size([32, 1])\n",
      "torch.Size([32, 20]) torch.Size([32, 1])\n",
      "torch.Size([32, 20]) torch.Size([32, 1])\n",
      "torch.Size([32, 20]) torch.Size([32, 1])\n",
      "torch.Size([32, 20]) torch.Size([32, 1])\n",
      "torch.Size([32, 20]) torch.Size([32, 1])\n",
      "torch.Size([32, 20]) torch.Size([32, 1])\n",
      "torch.Size([32, 20]) torch.Size([32, 1])\n",
      "torch.Size([32, 20]) torch.Size([32, 1])\n",
      "torch.Size([32, 20]) torch.Size([32, 1])\n",
      "torch.Size([32, 20]) torch.Size([32, 1])\n",
      "torch.Size([32, 20]) torch.Size([32, 1])\n",
      "torch.Size([32, 20]) torch.Size([32, 1])\n",
      "torch.Size([32, 20]) torch.Size([32, 1])\n",
      "torch.Size([32, 20]) torch.Size([32, 1])\n",
      "torch.Size([32, 20]) torch.Size([32, 1])\n",
      "torch.Size([32, 20]) torch.Size([32, 1])\n"
     ]
    }
   ],
   "source": [
    "train_set = MyTrainDataset(2048)  # load your dataset\n",
    "batch_size = 32\n",
    "train_data = DataLoader(train_set, batch_size=batch_size, pin_memory=True, shuffle=True)\n",
    "\n",
    "for source, targets in train_data:\n",
    "    print(source.shape, targets.shape)\n"
   ]
  },
  {
   "cell_type": "code",
   "execution_count": null,
   "id": "50c7db4c",
   "metadata": {},
   "outputs": [],
   "source": []
  },
  {
   "cell_type": "code",
   "execution_count": null,
   "id": "68c30aec",
   "metadata": {},
   "outputs": [],
   "source": []
  },
  {
   "cell_type": "code",
   "execution_count": null,
   "id": "84ae984a",
   "metadata": {},
   "outputs": [],
   "source": []
  },
  {
   "cell_type": "code",
   "execution_count": null,
   "id": "800570f6",
   "metadata": {},
   "outputs": [],
   "source": []
  },
  {
   "cell_type": "code",
   "execution_count": null,
   "id": "a2391e68",
   "metadata": {},
   "outputs": [],
   "source": []
  },
  {
   "cell_type": "code",
   "execution_count": null,
   "id": "1be80d61",
   "metadata": {},
   "outputs": [],
   "source": []
  },
  {
   "cell_type": "code",
   "execution_count": null,
   "id": "8a406dfe",
   "metadata": {},
   "outputs": [],
   "source": []
  },
  {
   "cell_type": "code",
   "execution_count": null,
   "id": "ee333e38",
   "metadata": {},
   "outputs": [],
   "source": []
  },
  {
   "cell_type": "code",
   "execution_count": null,
   "id": "4b4fe271",
   "metadata": {},
   "outputs": [],
   "source": []
  },
  {
   "cell_type": "code",
   "execution_count": null,
   "id": "25abbcd0",
   "metadata": {},
   "outputs": [],
   "source": []
  },
  {
   "cell_type": "code",
   "execution_count": null,
   "id": "5c266c24",
   "metadata": {},
   "outputs": [],
   "source": []
  },
  {
   "cell_type": "code",
   "execution_count": null,
   "id": "2bde180f",
   "metadata": {},
   "outputs": [],
   "source": []
  },
  {
   "cell_type": "code",
   "execution_count": null,
   "id": "7f667e0c",
   "metadata": {},
   "outputs": [],
   "source": []
  },
  {
   "cell_type": "code",
   "execution_count": null,
   "id": "1cee1a18",
   "metadata": {},
   "outputs": [],
   "source": []
  },
  {
   "cell_type": "code",
   "execution_count": null,
   "id": "99aec406",
   "metadata": {},
   "outputs": [],
   "source": []
  },
  {
   "cell_type": "code",
   "execution_count": null,
   "id": "d5c39923",
   "metadata": {},
   "outputs": [],
   "source": []
  },
  {
   "cell_type": "markdown",
   "id": "a74c53b8",
   "metadata": {},
   "source": [
    "---\n",
    "### `https://pytorch.org/tutorials/intermediate/ddp_tutorial.html`"
   ]
  },
  {
   "cell_type": "code",
   "execution_count": 5,
   "id": "ef35fb85",
   "metadata": {},
   "outputs": [],
   "source": [
    "def setup(rank, world_size):\n",
    "    os.environ['MASTER_ADDR'] = 'localhost'\n",
    "    os.environ['MASTER_PORT'] = '12355'\n",
    "\n",
    "    # initialize the process group\n",
    "    dist.init_process_group(\"gloo\", rank=rank, world_size=world_size)\n",
    "\n",
    "def cleanup():\n",
    "    dist.destroy_process_group()\n"
   ]
  },
  {
   "cell_type": "code",
   "execution_count": 6,
   "id": "51ed7669",
   "metadata": {},
   "outputs": [],
   "source": [
    "class ToyModel(nn.Module):\n",
    "    def __init__(self):\n",
    "        super(ToyModel, self).__init__()\n",
    "        self.net1 = nn.Linear(10, 10)\n",
    "        self.relu = nn.ReLU()\n",
    "        self.net2 = nn.Linear(10, 5)\n",
    "\n",
    "    def forward(self, x):\n",
    "        return self.net2(self.relu(self.net1(x)))\n",
    "\n",
    "def demo_basic(rank, world_size):\n",
    "    print(f\"Running basic DDP example on rank {rank}.\")\n",
    "    setup(rank, world_size)\n",
    "\n",
    "    # create model and move it to GPU with id rank\n",
    "    model = ToyModel().to(rank)\n",
    "    ddp_model = DDP(model, device_ids=[rank])\n",
    "\n",
    "    loss_fn = nn.MSELoss()\n",
    "    optimizer = optim.SGD(ddp_model.parameters(), lr=0.001)\n",
    "\n",
    "    optimizer.zero_grad()\n",
    "    outputs = ddp_model(torch.randn(20, 10))\n",
    "    labels = torch.randn(20, 5).to(rank)\n",
    "    loss_fn(outputs, labels).backward()\n",
    "    optimizer.step()\n",
    "\n",
    "    cleanup()\n",
    "\n",
    "def run_demo(demo_fn, world_size):\n",
    "    mp.spawn(demo_fn,\n",
    "             args=(world_size,),\n",
    "             nprocs=world_size,\n",
    "             join=True)\n"
   ]
  },
  {
   "cell_type": "code",
   "execution_count": null,
   "id": "145f3ab7",
   "metadata": {},
   "outputs": [],
   "source": []
  },
  {
   "cell_type": "code",
   "execution_count": null,
   "id": "cd38cb30",
   "metadata": {},
   "outputs": [],
   "source": []
  },
  {
   "cell_type": "code",
   "execution_count": null,
   "id": "f7b17349",
   "metadata": {},
   "outputs": [],
   "source": []
  },
  {
   "cell_type": "code",
   "execution_count": null,
   "id": "4f46b506",
   "metadata": {},
   "outputs": [],
   "source": []
  },
  {
   "cell_type": "code",
   "execution_count": null,
   "id": "08f2e29c",
   "metadata": {},
   "outputs": [],
   "source": []
  },
  {
   "cell_type": "code",
   "execution_count": null,
   "id": "31c6915c",
   "metadata": {},
   "outputs": [],
   "source": []
  },
  {
   "cell_type": "code",
   "execution_count": null,
   "id": "bc65067e",
   "metadata": {},
   "outputs": [],
   "source": []
  },
  {
   "cell_type": "code",
   "execution_count": null,
   "id": "bfa6959f",
   "metadata": {},
   "outputs": [],
   "source": []
  }
 ],
 "metadata": {
  "kernelspec": {
   "display_name": "Python 3 (ipykernel)",
   "language": "python",
   "name": "python3"
  },
  "language_info": {
   "codemirror_mode": {
    "name": "ipython",
    "version": 3
   },
   "file_extension": ".py",
   "mimetype": "text/x-python",
   "name": "python",
   "nbconvert_exporter": "python",
   "pygments_lexer": "ipython3",
   "version": "3.8.16"
  }
 },
 "nbformat": 4,
 "nbformat_minor": 5
}
