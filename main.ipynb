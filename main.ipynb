{
 "cells": [
  {
   "cell_type": "code",
   "execution_count": 11,
   "id": "8783de83",
   "metadata": {},
   "outputs": [
    {
     "name": "stdout",
     "output_type": "stream",
     "text": [
      "10.010883999999999\n",
      "vocab:  \t\n",
      " !\"#$%&'()*+,-./0123456789:;<=>?@ABCDEFGHIJKLMNOPQRSTUVWXYZ[\\]^_`abcdefghijklmnopqrstuvwxyz{|}~ ¡£¥§©«­®¯°±²·»¼½¾ÀÁÂÄÅÆÇÉÍÎÑÒÓÖ×ØÜÞßàáâãäåæçèéêëìíîïðñòóôõöøùúûüýĀāĂăąćČčĐđĒēĕėęěġħĩĪīĭİıĻļŁłńňŋŌōŏœřŚśŞşŠšũŪūŭůųŷźżŽžƎơƯưǎǐǒǔǝǰșțɐɑɒɔɕəɛɡɣɦɩɪɫɭɲɸɾʀʁʃʈʊʋʏʐʑʒʔʰʱʹʻʼʽʾʿˈˌː˩˹˺̤̥̩̱̲̀́̂̃̄̽̚ΓΔΕΛΞΠΣΩάέίαβγδεζηθικλμνοπρςστυφχψωόύϕЄАБВГДЕЖЗИКЛМНОПРСТУФХЧЭЯабвгдежзийклмнопрстуфхцчшщъыьэюяєіїўѣҚқҡҷӀӑәӣөԥԱՀՍաեէթկհմյնոտրւְֲִֵַָּׁבדהוחיכםמסעפרשת،ءآأإئابةتثجحخدذرزسشصضطظعغـفقكلمنهوىيًٌٍَُِّْٰٱٲپچڌڕژښکگڵہۆۇیێەܐܝܡܪހބވދސަިެްߏߒߞंःअआइईउऊऋएऐऑओऔकखगघङचछजझञटठडढणतथदधनपफबभमयरऱलळवशषसह़ािीुूृॅेैॉोौ्।॥०१२३४५६७९ॲংঅণপবমযরলষস়ািীু্ਜਪਬਾੀੰગજતરાીુଆଓଡ଼ିஅஆஎஐகஙசடணதநனபமயரறளழவாிீுெேை்గతలుెಕಡತನಳು್ംഅകഗതമയരലളസഹാിൂെേോ്ൻංලසහිทย฿ไລວາ་ཀཁགངཆཇཐདནཔཕབམཙཚཞའཡརལཤསཧཱིེོུྒྗྡྤྩྫྱྲྷတနပဘမဝသအာိုး်ြၽႃႆႇႏაგთილმრუქማርትኛአግᎩᎳᏣᐃᑎᑐᑦᒃᓄខភមរសាែ្៛ᨁᨅᨔᨕᨘᨗᱛᱟᱤᱥᱱᱲᵛḍḏḡḤḥḪḳḵḷṁṃṅṇṚṛṟṢṣṬṭṳẒẓẖạảấầẵẼẽếềệọốồộỦữἅἈἕἴἸἹὉὰὶῆῷ   ​‌‍‎‐‑–—―‘’“”„†‡•…′″‹›‿⁄⁠⁡₂₃₨₫€₭₱₹ℏℓ№℞™⅓⅔←↑→↓↔∂∑−∘∥≈≡≥⋅⋍⑪▉■◇◊★☆♯⟨⟩⟺ⰂⰍⰎⰐⰑⰔⰟⰠⰡ　、々《》「」『』【】あいうえおかがきぎくけげこごさしすそたちつてでとどなにのはびへべみめもやゆよらりるれをんァアイウェエオカガキクグケコゴサザシジスズセタダチッツテデトドナニノハバビフブプベペホポマミムメモャヤュヨラリルレロワンヶ・ー一丁七万三上下不与丑世丞両並中丸丹为主乃久么之乗九乾亀事二于五井交京亭亮人什仁今介仏付仙代以仲件任伊伎休会伝传伯位住佐体作佳供依係俄俊保信俣倉倫停健備像僧儒元先光入內全八公六共兵具典内再决凶出击刀分切刑列初別利到制刺前剛剣創力功加务动助勇動勘勝勢勤化北匠区十千升半华协南博占卫印原厢去参又及友双发取受口古台史右号司各合吉同名向含吴吹呂告员周味命和咲咸品員哲唄唐售唯商啓善喜單嘉噌器嚴囃囊四回团団図国图國園土圧在圭地址坂坊型垣城埴基埼堀堂堅報場塑塔塗塚塩塾境墓増墳壇壙士売壽外多大天太夫夷奈奉奏奥女好如妙姉委姥姿婦子字存学孫宅宇守安宗官宙定宜宝实客宣室宮害家宿寄密富寛實寳寶寺导寿射将專尋導小少尚尺尻尾居届屋展屬山岡岩峨峯島崇崎崖嶋巌川州工左巳巴巻市布帆帖師常幡平年幸幽庁広庐府度座庭康廃廣廬建廻式弥張強弾当形彦彩彫役征律後得御復徳心志忠念态急性恩恭恵悝惠惣想意愛慈慕慧懐成我戒戟戦戸房所扇手打技抄折押担拓拝持指挙挾捉探接推掲掻掾提搭摺撞播改政故敏教敬数敷文斉斎斐斗料新方旅族日旧旨早旭昇明星映春昭時普景曲曳更書曾最月有服朗望朝期木本术朴杉李村条杢来杰東杵松板构枌林枝柘柚柳柿栄栗株样格桂桃案桐桑桜梁梅梦梨棒森植椏椒楠楢業楮楽概榊槃構槻樋模権横橋櫃次欣款歌正步武歩歳歴死殊段殿毓比毛氏気氣水氷永江池汪決汽沈沙沢河治況泉泊法波泰洋洗洞津洲流浄浅浜浦海涅液淡淨深淵添淼清渋渓渕渡港湖湯湾満源準溜溝滝漆漉潟潮澤濁濃濟瀧瀬火灸点為烏無然焼照熊燃燈燕片版牛牟牧物特犬犯状狂狐独狭猫献猿玄玉王珀現球理琉琴瑞瑠璃瓦生產産用田由申男町画界留略異畳病痴発登白百的皇皮目直相眉県真眼着矢石研砥砦破碌碑碓碗磁磐磨礎示礼社祖神祥禅福禪秀秋科秘秦移種稲穴究空窓窟窯竈立站竜章童竹笛笠第笹等筋箏箕算箭節篇築篋簑簗籠米粟粵精糸系紅紋納紗紙級紡紫紬累細紹終組経結絣統絵続綱網綾綿総緑緒線編縁縄縮總績繍織结统网置羅美群義羽翁翠翫老考者聚聰職胡能脇膳自致臼舎舞舟航船良色艺芝芭花芳芸若英茂茅茶荒荘荷荻莲菅菊華萃萬落葉著葛葵蒔蒟蓬蔚蔡蔵蕉薗薦薬藍藏藤藩藪蘭虚虹蚕蛇蛭蜀蝙蝠蝶螺蟹行術街衙衛衣表袋裏裳製西要見覧観觀览角解言訃計記訪設試話詳認語説談諏論諭謙講譜譲護變记诚语谷豊豪貌貝貞財貢販貫貯貴買費賀資賞質贛走起超越足跡路踊車軌軒軽載輔輝輪輿轎车载辞辣边辻运近这进远迦迫迷通逝造連進運道遠遣遲遷遺那邦郊郎郡部郷都酔醤醫釈釉里重野金鈴鈿鉄銀銅銕鋳錦録鍋鍛鍼鏡鑑鑼長长門開閑間関閩闘问闻阎防阿附限院陣陰陶隆隧雀雁雄雅集雙雛雜難雨雪電霄青静非面鞅韓音韻順預頭題项频颗题風风食飼養館首香馬駄駅駒马验高髪髹鬼魚鯉鯊鳥鳳鳴鴈鵜鶴鸚鹏鹿麻黒鼓鼻龍Ꞓꯂꯃꯇꯟꯣꯤꯩ각감경고구국김내는당대댕동뜩력맛매문방병보생성소송신액약어에연영외원유윤의이자잔잡제주지집침탕편학한향형ﷺ﻿！＆（），－１２３４８９：＝？ＡＪＲＸＹ｜～𐌲𐌹𐌺𐌿𐍃𐍄\n",
      "vocab_size: 2228\n"
     ]
    }
   ],
   "source": [
    "with open('dataset/wiki.pkl', 'rb') as file:\n",
    "    data = pickle.load(file)\n",
    "    \n",
    "print(sum([len(val) for key,val in data.items()]) * 1e-6)\n",
    "text = ''.join([val for key,val in data.items()])\n",
    "from collections import Counter\n",
    "cnt = Counter()\n",
    "\n",
    "\n",
    "\n",
    "# A quick look into the dataset\n",
    "chars = sorted(list(set(text)))\n",
    "vocab_size = len(chars)\n",
    "print(fr\"vocab:  {''.join(chars)}\")\n",
    "print(f'vocab_size: {vocab_size}')\n"
   ]
  },
  {
   "cell_type": "code",
   "execution_count": 12,
   "id": "e9c803fc",
   "metadata": {},
   "outputs": [],
   "source": [
    "from collections import Counter\n"
   ]
  },
  {
   "cell_type": "code",
   "execution_count": 20,
   "id": "9af11798",
   "metadata": {},
   "outputs": [],
   "source": [
    "cnt = Counter(text)\n",
    "cnt = sorted(cnt.items(), key=lambda x: x[1])"
   ]
  },
  {
   "cell_type": "code",
   "execution_count": 27,
   "id": "4fd4eed3",
   "metadata": {},
   "outputs": [
    {
     "data": {
      "text/plain": [
       "[<matplotlib.lines.Line2D at 0x7f7d44281610>]"
      ]
     },
     "execution_count": 27,
     "metadata": {},
     "output_type": "execute_result"
    },
    {
     "data": {
      "image/png": "[encoded data removed]",
      "text/plain": [
       "<Figure size 1800x400 with 1 Axes>"
      ]
     },
     "metadata": {},
     "output_type": "display_data"
    }
   ],
   "source": [
    "y = []\n",
    "for a,b in cnt:\n",
    "    y.append(b)\n",
    "\n",
    "plt.semilogy(y, 'k.')\n",
    "    "
   ]
  },
  {
   "cell_type": "code",
   "execution_count": 1,
   "id": "104eedda",
   "metadata": {},
   "outputs": [
    {
     "data": {
      "text/html": [
       "<style>.container { width:100% !important; }</style>"
      ],
      "text/plain": [
       "<IPython.core.display.HTML object>"
      ]
     },
     "metadata": {},
     "output_type": "display_data"
    },
    {
     "name": "stdout",
     "output_type": "stream",
     "text": [
      "device: cuda\n",
      "vocab:  \n",
      " !$&',-.3:;?ABCDEFGHIJKLMNOPQRSTUVWXYZabcdefghijklmnopqrstuvwxyz\n",
      "vocab_size: 65\n",
      "num_params: 34M\n"
     ]
    }
   ],
   "source": [
    "%reload_ext autoreload\n",
    "%autoreload 2\n",
    "import os\n",
    "os.environ[\"CUDA_DEVICE_ORDER\"] = \"PCI_BUS_ID\"\n",
    "os.environ[\"CUDA_VISIBLE_DEVICES\"] = \"1\"\n",
    "from utils.bigram import *\n",
    "\n",
    "# read trainset\n",
    "train_data, val_data, vocab_size, decode = prepare_data()\n",
    "\n",
    "# instantiate model\n",
    "model = BigramLanguageModel(vocab_size)\n",
    "model = nn.DataParallel(model)\n",
    "model = model.to(device) # move model parameters to gpu if available\n"
   ]
  },
  {
   "cell_type": "code",
   "execution_count": 2,
   "id": "724288ec",
   "metadata": {},
   "outputs": [
    {
     "name": "stdout",
     "output_type": "stream",
     "text": [
      "step    -1: train_loss 4.3047, val_loss: 4.3007  (...Runtime: 0 min 20 sec)\n",
      "logits.shape: torch.Size([16384, 65])\n",
      "loss: 4.313\n",
      "\n",
      "SNYYsCyaW?xbwfw:l;J.hEeaH-arqJyRniE!L'VE c\n",
      "vvwb,RCGSjeN3Z.ulxZcQiSZf \n",
      "bEODZoRmYHd-iaDU'd3izefcN?zM\n",
      "u\n"
     ]
    }
   ],
   "source": [
    "# Create a pytorch optimizer\n",
    "optimizer = torch.optim.AdamW(model.parameters(), lr=learning_rate)  # usually 3e-4 for bigger networks.\n",
    "\n",
    "list_epochs, list_losses, list_epochs_eval, list_losses_eval = [0], [], [0], [] \n",
    "xb, yb = get_batch(train_data, batch_size)\n",
    "logits, loss = model(xb, yb)\n",
    "if device.startswith('cuda'):\n",
    "    loss = loss.mean()\n",
    "\n",
    "list_losses.append(loss.tolist())\n",
    "\n",
    "losses = estimate_loss(model, train_data, val_data, eval_iters, -1, time.time())\n",
    "list_losses_eval.append([item.detach().numpy().tolist() for item in (losses['train'], losses['val'])])\n",
    "\n",
    "print(f'logits.shape: {logits.shape}')\n",
    "print(f'loss: {loss:.3f}')\n",
    "print(r''.join(decode(generate(model, torch.zeros((1,1), device=device, dtype=torch.long),\n",
    "                               max_new_tokens=100)[0].tolist())))"
   ]
  },
  {
   "cell_type": "code",
   "execution_count": 3,
   "id": "ef14369e",
   "metadata": {
    "scrolled": false
   },
   "outputs": [
    {
     "name": "stdout",
     "output_type": "stream",
     "text": [
      "step   500: train_loss 1.9925, val_loss: 2.0902  (...Runtime: 1 min 55 sec)\n",
      "step  1000: train_loss 1.5940, val_loss: 1.7809  (...Runtime: 3 min 51 sec)\n",
      "step  1500: train_loss 1.4223, val_loss: 1.6252  (...Runtime: 5 min 46 sec)\n",
      "step  2000: train_loss 1.3298, val_loss: 1.5661  (...Runtime: 7 min 42 sec)\n",
      "step  2500: train_loss 1.2672, val_loss: 1.5316  (...Runtime: 9 min 37 sec)\n",
      "step  3000: train_loss 1.2126, val_loss: 1.5158  (...Runtime: 11 min 33 sec)\n",
      "step  3500: train_loss 1.1699, val_loss: 1.4993  (...Runtime: 13 min 28 sec)\n",
      "step  4000: train_loss 1.1320, val_loss: 1.4833  (...Runtime: 15 min 23 sec)\n",
      "step  4500: train_loss 1.0924, val_loss: 1.4837  (...Runtime: 17 min 19 sec)\n",
      "step  5000: train_loss 1.0586, val_loss: 1.4879  (...Runtime: 19 min 14 sec)\n",
      "step  5500: train_loss 1.0186, val_loss: 1.5070  (...Runtime: 21 min  9 sec)\n",
      "step  6000: train_loss 0.9826, val_loss: 1.5276  (...Runtime: 23 min  3 sec)\n",
      "step  6500: train_loss 0.9501, val_loss: 1.5430  (...Runtime: 24 min 58 sec)\n",
      "step  7000: train_loss 0.9142, val_loss: 1.5539  (...Runtime: 26 min 53 sec)\n",
      "step  7500: train_loss 0.8755, val_loss: 1.5838  (...Runtime: 28 min 48 sec)\n",
      "step  8000: train_loss 0.8455, val_loss: 1.6044  (...Runtime: 30 min 42 sec)\n",
      "step  8500: train_loss 0.8053, val_loss: 1.6234  (...Runtime: 32 min 37 sec)\n",
      "step  9000: train_loss 0.7717, val_loss: 1.6498  (...Runtime: 34 min 32 sec)\n",
      "step  9500: train_loss 0.7392, val_loss: 1.6750  (...Runtime: 36 min 26 sec)\n",
      "step  9999: train_loss 0.7035, val_loss: 1.7185  (...Runtime: 38 min 21 sec)\n",
      "step 10000: train_loss 0.7017, val_loss: 1.7135  (...Runtime: 38 min 42 sec)\n",
      "\n",
      "Unto my character with misfortune eyes:\n",
      "Be he untimely have neither done,\n",
      "I burn, sleeping teses was these days:\n",
      "Hooking Richmond! who should tumbless black in bone\n",
      "That with Cupid age cherishes do partise--\n",
      "Shall ever I be with joing of poor faces,\n",
      "Therefore the commonser very order,\n",
      "Where is grown can fainst him love, wast\n",
      "The crown of solemn basting limits, weary a\n",
      "drunkers: hie the glasses of \n"
     ]
    },
    {
     "data": {
      "image/png": "[encoded data removed]",
      "text/plain": [
       "<Figure size 647.2x400 with 1 Axes>"
      ]
     },
     "metadata": {},
     "output_type": "display_data"
    }
   ],
   "source": [
    "# train loop\n",
    "start = time.time()\n",
    "epoch = 0\n",
    "\n",
    "for ib in range(1, max_iters + 1):\n",
    "    # sample a batch of data\n",
    "    xb, yb = get_batch(train_data, batch_size)\n",
    "    \n",
    "    # evaluate the loss\n",
    "    logits, loss = model(xb, yb)\n",
    "    if device.startswith('cuda'):\n",
    "        loss = loss.mean()\n",
    "    optimizer.zero_grad(set_to_none=True)\n",
    "    loss.backward() # get the gradients\n",
    "    optimizer.step() # update parameters using the gradients\n",
    "    \n",
    "    # evaluate at fixed intervals\n",
    "    epoch += batch_size / (len(train_data)-batch_size)\n",
    "    if ib % eval_interval == 0 or ib == max_iters - 1:\n",
    "        losses = estimate_loss(model, train_data, val_data, eval_iters, ib, start)\n",
    "        list_epochs_eval.append(epoch)\n",
    "        list_losses_eval.append([item.detach().numpy().tolist() for item in (losses['train'], losses['val'])])\n",
    "    list_losses.append(loss.item())\n",
    "    list_epochs.append(epoch)\n",
    "    \n",
    "plotter(list_epochs, list_losses, list_epochs_eval, list_losses_eval)\n",
    "\n",
    "# Generate text \n",
    "context = torch.zeros((1,1), dtype=torch.long, device=device)\n",
    "print(r''.join(decode(generate(model, torch.zeros((1,1), device=device, dtype=torch.long), \n",
    "                               max_new_tokens=400)[0].tolist()))) "
   ]
  },
  {
   "cell_type": "markdown",
   "id": "f464ce3e",
   "metadata": {},
   "source": [
    "# The Mathematical Trick in Self-Attention"
   ]
  },
  {
   "cell_type": "markdown",
   "id": "1bf9763e",
   "metadata": {},
   "source": [
    "- Attention is a **communication mechanism**. It's anodes in a graph looking at each other and aggregating informtaion with a weighted sum from all nodes pointing to them  \n",
    "\n",
    "- No notion of space. Attention itself only acts over nodes and vectors.\n",
    "\n",
    "- Separate batches don't talk to each other. Each example across batch dimension is processed independently. \n",
    "\n",
    "- **Encoder:**  No masking with `tril` allowing all tokens to communicate. **Decoder** uses masking in an autoregressive settings so past tokens don't talk to future tokens --otherwise they would give away the answer.\n",
    "\n",
    "- **Self-Attention:** keys, queries and values arecome from the same source. \n",
    "- **Cross-Attention:** queries are produced from x, keys and values are produced from a previous encoder module. Encoder encodes some context we want the decoder's generation process to be conditioned on.\n",
    "- **Scaling by sqrt(d):** It's an important normalization to have. \n"
   ]
  },
  {
   "cell_type": "code",
   "execution_count": null,
   "id": "13da5261",
   "metadata": {},
   "outputs": [],
   "source": []
  },
  {
   "cell_type": "code",
   "execution_count": null,
   "id": "3b714455",
   "metadata": {},
   "outputs": [],
   "source": []
  },
  {
   "cell_type": "code",
   "execution_count": null,
   "id": "de717b2e",
   "metadata": {},
   "outputs": [],
   "source": []
  },
  {
   "cell_type": "code",
   "execution_count": null,
   "id": "1ff983ec",
   "metadata": {},
   "outputs": [],
   "source": []
  },
  {
   "cell_type": "code",
   "execution_count": null,
   "id": "f4a39226",
   "metadata": {},
   "outputs": [],
   "source": []
  },
  {
   "cell_type": "code",
   "execution_count": null,
   "id": "2ff58f23",
   "metadata": {},
   "outputs": [],
   "source": []
  },
  {
   "cell_type": "code",
   "execution_count": null,
   "id": "84e7acfa",
   "metadata": {},
   "outputs": [],
   "source": []
  },
  {
   "cell_type": "code",
   "execution_count": null,
   "id": "15db187c",
   "metadata": {},
   "outputs": [],
   "source": []
  },
  {
   "cell_type": "code",
   "execution_count": null,
   "id": "d9a46e6a",
   "metadata": {},
   "outputs": [],
   "source": []
  },
  {
   "cell_type": "code",
   "execution_count": null,
   "id": "2ae9f04c",
   "metadata": {},
   "outputs": [],
   "source": []
  },
  {
   "cell_type": "code",
   "execution_count": null,
   "id": "7c37a1a5",
   "metadata": {},
   "outputs": [],
   "source": []
  },
  {
   "cell_type": "code",
   "execution_count": null,
   "id": "bf8216fc",
   "metadata": {},
   "outputs": [],
   "source": []
  },
  {
   "cell_type": "code",
   "execution_count": null,
   "id": "a6210571",
   "metadata": {},
   "outputs": [],
   "source": []
  },
  {
   "cell_type": "code",
   "execution_count": null,
   "id": "93927dc1",
   "metadata": {},
   "outputs": [],
   "source": []
  },
  {
   "cell_type": "code",
   "execution_count": null,
   "id": "77d930d2",
   "metadata": {},
   "outputs": [],
   "source": []
  },
  {
   "cell_type": "code",
   "execution_count": null,
   "id": "459c12a7",
   "metadata": {},
   "outputs": [],
   "source": []
  },
  {
   "cell_type": "code",
   "execution_count": null,
   "id": "2d3fbf84",
   "metadata": {},
   "outputs": [],
   "source": []
  },
  {
   "cell_type": "code",
   "execution_count": null,
   "id": "6838d320",
   "metadata": {},
   "outputs": [],
   "source": []
  },
  {
   "cell_type": "code",
   "execution_count": null,
   "id": "2024318e",
   "metadata": {},
   "outputs": [],
   "source": []
  },
  {
   "cell_type": "code",
   "execution_count": null,
   "id": "d859f659",
   "metadata": {},
   "outputs": [],
   "source": []
  },
  {
   "cell_type": "code",
   "execution_count": null,
   "id": "a56549b0",
   "metadata": {},
   "outputs": [],
   "source": []
  },
  {
   "cell_type": "code",
   "execution_count": null,
   "id": "6fec330f",
   "metadata": {},
   "outputs": [],
   "source": []
  },
  {
   "cell_type": "code",
   "execution_count": null,
   "id": "bc999978",
   "metadata": {},
   "outputs": [],
   "source": []
  },
  {
   "cell_type": "code",
   "execution_count": null,
   "id": "e47b8985",
   "metadata": {},
   "outputs": [],
   "source": []
  },
  {
   "cell_type": "code",
   "execution_count": null,
   "id": "1c2a66cf",
   "metadata": {},
   "outputs": [],
   "source": []
  },
  {
   "cell_type": "code",
   "execution_count": null,
   "id": "fa897f80",
   "metadata": {},
   "outputs": [],
   "source": []
  }
 ],
 "metadata": {
  "kernelspec": {
   "display_name": "Python 3 (ipykernel)",
   "language": "python",
   "name": "python3"
  },
  "language_info": {
   "codemirror_mode": {
    "name": "ipython",
    "version": 3
   },
   "file_extension": ".py",
   "mimetype": "text/x-python",
   "name": "python",
   "nbconvert_exporter": "python",
   "pygments_lexer": "ipython3",
   "version": "3.8.16"
  }
 },
 "nbformat": 4,
 "nbformat_minor": 5
}
