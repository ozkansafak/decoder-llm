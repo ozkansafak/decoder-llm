{
 "cells": [
  {
   "cell_type": "code",
   "execution_count": 1,
   "id": "104eedda",
   "metadata": {
    "scrolled": true
   },
   "outputs": [
    {
     "data": {
      "text/html": [
       "<style>.container { width:90% !important; }</style>"
      ],
      "text/plain": [
       "<IPython.core.display.HTML object>"
      ]
     },
     "metadata": {},
     "output_type": "display_data"
    },
    {
     "name": "stderr",
     "output_type": "stream",
     "text": [
      "/data/home/osafak/.conda/envs/torch/lib/python3.8/site-packages/tqdm/auto.py:21: TqdmWarning: IProgress not found. Please update jupyter and ipywidgets. See https://ipywidgets.readthedocs.io/en/stable/user_install.html\n",
      "  from .autonotebook import tqdm as notebook_tqdm\n"
     ]
    },
    {
     "name": "stdout",
     "output_type": "stream",
     "text": [
      "num_params: 304 M\n",
      "+---------+----------+---------+--------+------------+------------+----------------+---------------+\n",
      "| d_model | n_layers | n_heads | d_head | block_size | batch_size | acc_batch_size | learning_rate |\n",
      "+---------+----------+---------+--------+------------+------------+----------------+---------------+\n",
      "|   1024  |    16    |    16   |   64   |    512     |     70     |    465920.0    |     3e-05     |\n",
      "|         |          |         |        |            |   70/GPU   |                |               |\n",
      "+---------+----------+---------+--------+------------+------------+----------------+---------------+\n",
      "len(val_data):500000  (5 sec)\n",
      "CPU times: user 42.5 s, sys: 6.81 s, total: 49.3 s\n",
      "Wall time: 12.9 s\n"
     ]
    }
   ],
   "source": [
    "%%time \n",
    "%reload_ext autoreload\n",
    "%autoreload 2\n",
    "from IPython.display import display, HTML\n",
    "display(HTML(\"<style>.container { width:90% !important; }</style>\"))\n",
    "\n",
    "import os\n",
    "os.environ[\"CUDA_DEVICE_ORDER\"] = \"PCI_BUS_ID\"\n",
    "os.environ[\"CUDA_VISIBLE_DEVICES\"] = \"0\"\n",
    "\n",
    "from utils.imports import *\n",
    "from utils.helpers import *\n",
    "from utils.model import *\n",
    "\n",
    "# instantiate model\n",
    "device = 0\n",
    "model, optimizer = load_train_objs(vocab_size, device, learning_rate)\n",
    "\n",
    "# load val_data by crawling the list of wiki pages in \"dataset/val_wiki.json\"\n",
    "world_size = torch.cuda.device_count()\n",
    "val_data = load_val_data(device, world_size)\n",
    "list_num_tokens, list_num_tokens_eval, list_losses, list_losses_eval = [], [], [], {'train':[], 'val':[]}\n"
   ]
  },
  {
   "cell_type": "code",
   "execution_count": 2,
   "id": "2e7bcf91",
   "metadata": {},
   "outputs": [
    {
     "name": "stdout",
     "output_type": "stream",
     "text": [
      "\"news.2008.en.shuffled\":  4.388 GB  (1 min 13 sec)\n",
      "Runtime: 12 min 36 sec\n"
     ]
    }
   ],
   "source": [
    "s0 = time.time()\n",
    "directory = \"/data/home/osafak/code/mygpt/dataset/multilingual-news\"\n",
    "PATH = f\"{directory}/*.en*\"\n",
    "ls = glob.glob(PATH)\n",
    "ls.sort(key=lambda x: x.split(\"/\")[-1])\n",
    "n_tokens = 0\n",
    "\n",
    "fname = ls[2]\n",
    "with open(fname, 'r') as f:\n",
    "    text = f.read()\n",
    "    print(f'\"{fname.split(\"/\")[-1]}\": {len(text)/1e9:.3f} GB  {print_runtime(s0, False)}')\n",
    "\n",
    "# # replace compatible characters with equivalents in English alphabet.\n",
    "# text = unicodedata.normalize(\"NFKD\", text)\n",
    "# text = unidecode.unidecode(text)\n",
    "\n",
    "# # clean up text. \n",
    "# text = clean_up(text, vocab)\n",
    "\n",
    "# tokenize the text.\n",
    "data = torch.tensor(encode(text), dtype=torch.long)\n",
    "n_tokens += len(data)\n",
    "\n",
    "\n",
    "with open(f'{fname}.json', 'w') as f:\n",
    "    json.dump(data.tolist(), f)\n",
    "    \n",
    "    \n",
    "print_runtime(s0)"
   ]
  },
  {
   "cell_type": "code",
   "execution_count": 4,
   "id": "4c4dda3d",
   "metadata": {},
   "outputs": [
    {
     "ename": "TypeError",
     "evalue": "crawl_wiki_data() missing 1 required positional argument: 'add'",
     "output_type": "error",
     "traceback": [
      "\u001b[0;31m---------------------------------------------------------------------------\u001b[0m",
      "\u001b[0;31mTypeError\u001b[0m                                 Traceback (most recent call last)",
      "Cell \u001b[0;32mIn[4], line 17\u001b[0m\n\u001b[1;32m     14\u001b[0m step \u001b[38;5;241m+\u001b[39m\u001b[38;5;241m=\u001b[39m \u001b[38;5;241m1\u001b[39m\n\u001b[1;32m     16\u001b[0m \u001b[38;5;66;03m# crawl a new batch of wiki pages\u001b[39;00m\n\u001b[0;32m---> 17\u001b[0m train_data, num_chars \u001b[38;5;241m=\u001b[39m \u001b[43mcrawl_wiki_data\u001b[49m\u001b[43m(\u001b[49m\u001b[43mnew_links\u001b[49m\u001b[43m,\u001b[49m\u001b[43m \u001b[49m\u001b[43mvisited_urls\u001b[49m\u001b[43m,\u001b[49m\u001b[43m \u001b[49m\u001b[43mnum_chars\u001b[49m\u001b[43m,\u001b[49m\u001b[43m \u001b[49m\u001b[43madd\u001b[49m\u001b[38;5;241;43m/\u001b[39;49m\u001b[38;5;241;43m/\u001b[39;49m\u001b[38;5;241;43m10\u001b[39;49m\u001b[43m)\u001b[49m\n\u001b[1;32m     19\u001b[0m \u001b[38;5;66;03m# wrap the data in DataLoader class. \u001b[39;00m\n\u001b[1;32m     20\u001b[0m mydataset \u001b[38;5;241m=\u001b[39m MyDataset(train_data, block_size)\n",
      "\u001b[0;31mTypeError\u001b[0m: crawl_wiki_data() missing 1 required positional argument: 'add'"
     ]
    }
   ],
   "source": [
    "start = time.time()\n",
    "step = 0\n",
    "sample_no = 0\n",
    "num_tokens = 0\n",
    "num_batches = 0\n",
    "\n",
    "myvalset = MyDataset(val_data, block_size)\n",
    "val_loader = torch.utils.data.DataLoader(dataset=myvalset,\n",
    "                                         batch_size=batch_size,\n",
    "                                         shuffle=False)\n",
    "\n",
    "list_losses_val.append(estimate_loss(model, val_loader, device))\n",
    "list_num_tokens_val.append(num_tokens)\n",
    "plotter(device, list_num_tokens, list_losses, list_num_tokens_val, list_losses_val, savefig=True)\n",
    "generate_text(model, device, step, None) \n",
    "\n",
    "while step < max_iters:\n",
    "    step += 1\n",
    "\n",
    "    # crawl a new batch of wiki pages\n",
    "    train_data, num_chars = crawl_wiki_data(device, new_links, visited_urls, num_chars, add//10)\n",
    "\n",
    "    # wrap the data in DataLoader class. \n",
    "    mydataset = MyDataset(train_data, block_size)\n",
    "    train_loader = torch.utils.data.DataLoader(\n",
    "        dataset=mydataset,\n",
    "        batch_size=batch_size,\n",
    "        shuffle=False,\n",
    "    )\n",
    "\n",
    "    for batch_no, (xb, yb) in enumerate(train_loader):\n",
    "        xb = xb.to(device)\n",
    "        yb = yb.to(device)\n",
    "        mb1 = xb.element_size() * xb.nelement() * 1e-6\n",
    "        mb2 = yb.element_size() * yb.nelement() * 1e-6\n",
    "        logits, loss = model(xb, yb) # evaluate the loss\n",
    "        print(f'batch_no:{batch_no+1} of {len(train_loader)},  loss:{loss.item():.2f}, Memory:{mb1 + mb2}MB ', end='\\r')\n",
    "        loss = loss.mean() # take average across the 8 GPUs\n",
    "        optimizer.zero_grad(set_to_none=True)\n",
    "        loss.backward() # get the gradients with backprop.\n",
    "        optimizer.step() # apply the gradient on the network parameters.\n",
    "        list_losses.append(loss.item())\n",
    "        num_tokens += block_size * batch_size \n",
    "        list_num_tokens.append(num_tokens)\n",
    "\n",
    "        # evaluate at fixed intervals\n",
    "        if step % eval_steps == 0 and batch_no == (len(train_loader) - 1):\n",
    "            print(f'step:{step:3d}')\n",
    "            out = estimate_loss(model, val_data, val_data)\n",
    "            list_losses_eval['train'].append(out['train'])\n",
    "            list_losses_eval['val'].append(out['val'])\n",
    "            list_num_tokens_eval.append(num_tokens)\n",
    "            plotter(list_num_tokens, list_losses, list_num_tokens_eval, list_losses_eval, savefig=True)\n",
    "            generate_text(model) \n",
    "\n",
    "\n",
    "    print(f'step:{step:3d} num_pages:{len(visited_urls):02d}  '+\n",
    "          f'{\"FINISHED \" if step == max_iters else \"\"} train():{print_runtime(start, False)}', end ='\\n')\n"
   ]
  },
  {
   "cell_type": "code",
   "execution_count": null,
   "id": "ef14369e",
   "metadata": {
    "scrolled": true
   },
   "outputs": [],
   "source": [
    "# train loop\n",
    "train(model, optimizer, device, num_chars, val_data, \n",
    "      list_num_tokens, list_losses, list_num_tokens_eval, list_losses_eval, eval_steps)\n"
   ]
  },
  {
   "cell_type": "code",
   "execution_count": null,
   "id": "355bab38",
   "metadata": {},
   "outputs": [],
   "source": [
    "plotter(list_num_tokens, list_losses, list_num_tokens_eval, list_losses_eval)\n",
    "generate_text(model)\n"
   ]
  },
  {
   "cell_type": "markdown",
   "id": "d06f1b4e",
   "metadata": {},
   "source": [
    "# todo \n",
    "- Check if we're doing DDP across 8 GPUs correctly.\n",
    "- check if `batch_size` designates number of batches per each GPU or the total batches of 8 GPUs.\n",
    "- ~`get_batches` should get partial batches if it runs out of sentences~\n",
    "- `get_batches` should process one wiki page at a time. \n",
    "- Use `tiktoken` tokenizer\n"
   ]
  },
  {
   "cell_type": "markdown",
   "id": "1bf9763e",
   "metadata": {},
   "source": [
    "# The Mathematical Trick in Self-Attention\n",
    "\n",
    "- Attention is a **communication mechanism**. It's nodes in a graph looking at each other and aggregating information with a weighted sum from all nodes pointing to them  \n",
    "\n",
    "- No notion of space. Attention itself only acts over nodes and vectors.\n",
    "\n",
    "- Separate batches don't talk to each other. Each example across batch dimension is processed independently. \n",
    "\n",
    "- **Encoder:**  No masking with `tril` allowing all tokens to communicate. **Decoder** uses masking in an autoregressive settings so past tokens don't talk to future tokens --otherwise they would give away the answer.\n",
    "\n",
    "- **Self-Attention:** keys, queries and values arecome from the same source. \n",
    "- **Cross-Attention:** queries are produced from x, keys and values are produced from a previous encoder module. Encoder encodes some context we want the decoder's generation process to be conditioned on.\n",
    "- **Scaling by sqrt(d):** It's an important normalization to have. \n"
   ]
  },
  {
   "cell_type": "markdown",
   "id": "360bc5d1",
   "metadata": {},
   "source": [
    "----\n",
    "## 1. Experiments"
   ]
  },
  {
   "cell_type": "code",
   "execution_count": 143,
   "id": "d9de19c3",
   "metadata": {},
   "outputs": [
    {
     "name": "stdout",
     "output_type": "stream",
     "text": [
      "tokenizer: gpt2\n"
     ]
    }
   ],
   "source": [
    "tokenizer = 'gpt2'\n",
    "print(f'tokenizer: {tokenizer}')\n",
    "encFunc = ENCODING_CONSTRUCTORS['gpt2']\n",
    "encDict = encFunc()\n",
    "enc = tiktoken.Encoding(encDict['name'],\n",
    "                        pat_str=encDict['pat_str'],\n",
    "                        mergeable_ranks=encDict['mergeable_ranks'],\n",
    "                        special_tokens=encDict['special_tokens' ])\n",
    "vocab_size = enc.n_vocab\n",
    "encode = enc.encode\n",
    "decode = enc.decode\n",
    "\n",
    "with open('dataset/tiny_shakespeare.txt', 'r') as f:\n",
    "    text = f.read()\n",
    "len(encode(text))"
   ]
  },
  {
   "cell_type": "code",
   "execution_count": 213,
   "id": "3dc47915",
   "metadata": {},
   "outputs": [
    {
     "data": {
      "text/plain": [
       "['ArtistList',\n",
       " '_AxesBase__clear',\n",
       " '_PROPERTIES_EXCLUDED_FROM_SET',\n",
       " '__class__',\n",
       " '__delattr__',\n",
       " '__dict__',\n",
       " '__dir__',\n",
       " '__doc__',\n",
       " '__eq__',\n",
       " '__format__',\n",
       " '__ge__',\n",
       " '__getattribute__',\n",
       " '__getstate__',\n",
       " '__gt__',\n",
       " '__hash__',\n",
       " '__init__',\n",
       " '__init_subclass__',\n",
       " '__le__',\n",
       " '__lt__',\n",
       " '__module__',\n",
       " '__ne__',\n",
       " '__new__',\n",
       " '__reduce__',\n",
       " '__reduce_ex__',\n",
       " '__repr__',\n",
       " '__setattr__',\n",
       " '__setstate__',\n",
       " '__sizeof__',\n",
       " '__str__',\n",
       " '__subclasshook__',\n",
       " '__weakref__',\n",
       " '_add_text',\n",
       " '_adjustable',\n",
       " '_agg_filter',\n",
       " '_alias_map',\n",
       " '_alpha',\n",
       " '_anchor',\n",
       " '_animated',\n",
       " '_aspect',\n",
       " '_autotitlepos',\n",
       " '_axes',\n",
       " '_axes_locator',\n",
       " '_axis_map',\n",
       " '_axis_names',\n",
       " '_axisbelow',\n",
       " '_box_aspect',\n",
       " '_callbacks',\n",
       " '_check_no_units',\n",
       " '_children',\n",
       " '_clipon',\n",
       " '_clippath',\n",
       " '_cm_set',\n",
       " '_colorbars',\n",
       " '_convert_dx',\n",
       " '_current_image',\n",
       " '_default_contains',\n",
       " '_errorevery_to_mask',\n",
       " '_facecolor',\n",
       " '_fill_between_x_or_y',\n",
       " '_frameon',\n",
       " '_fully_clipped_to_axes',\n",
       " '_gci',\n",
       " '_gen_axes_patch',\n",
       " '_gen_axes_spines',\n",
       " '_get_aspect_ratio',\n",
       " '_get_lines',\n",
       " '_get_pan_points',\n",
       " '_get_patches_for_fill',\n",
       " '_get_view',\n",
       " '_gid',\n",
       " '_gridOn',\n",
       " '_in_layout',\n",
       " '_init_axis',\n",
       " '_internal_update',\n",
       " '_label',\n",
       " '_label_outer_xaxis',\n",
       " '_label_outer_yaxis',\n",
       " '_left_title',\n",
       " '_make_twin_axes',\n",
       " '_mouseover',\n",
       " '_mouseover_set',\n",
       " '_navigate',\n",
       " '_navigate_mode',\n",
       " '_originalPosition',\n",
       " '_parse_scatter_color_args',\n",
       " '_path_effects',\n",
       " '_pcolorargs',\n",
       " '_picker',\n",
       " '_position',\n",
       " '_prepare_view_from_bbox',\n",
       " '_process_unit_info',\n",
       " '_projection_init',\n",
       " '_quiver_units',\n",
       " '_rasterization_zorder',\n",
       " '_rasterized',\n",
       " '_remove_legend',\n",
       " '_remove_method',\n",
       " '_request_autoscale_view',\n",
       " '_right_title',\n",
       " '_sci',\n",
       " '_set_alpha_for_array',\n",
       " '_set_artist_props',\n",
       " '_set_gc_clip',\n",
       " '_set_lim_and_transforms',\n",
       " '_set_position',\n",
       " '_set_title_offset_trans',\n",
       " '_set_view',\n",
       " '_set_view_from_bbox',\n",
       " '_shared_axes',\n",
       " '_sharex',\n",
       " '_sharey',\n",
       " '_sketch',\n",
       " '_snap',\n",
       " '_stale',\n",
       " '_stale_viewlims',\n",
       " '_sticky_edges',\n",
       " '_subclass_uses_cla',\n",
       " '_subplotspec',\n",
       " '_tight',\n",
       " '_transform',\n",
       " '_transformSet',\n",
       " '_twinned_axes',\n",
       " '_unit_change_handler',\n",
       " '_unstale_viewLim',\n",
       " '_update_image_limits',\n",
       " '_update_line_limits',\n",
       " '_update_patch_limits',\n",
       " '_update_props',\n",
       " '_update_set_signature_and_docstring',\n",
       " '_update_title_position',\n",
       " '_update_transScale',\n",
       " '_url',\n",
       " '_use_sticky_edges',\n",
       " '_validate_converted_limits',\n",
       " '_viewLim',\n",
       " '_visible',\n",
       " '_xaxis_transform',\n",
       " '_xmargin',\n",
       " '_yaxis_transform',\n",
       " '_ymargin',\n",
       " 'acorr',\n",
       " 'add_artist',\n",
       " 'add_callback',\n",
       " 'add_child_axes',\n",
       " 'add_collection',\n",
       " 'add_container',\n",
       " 'add_image',\n",
       " 'add_line',\n",
       " 'add_patch',\n",
       " 'add_table',\n",
       " 'angle_spectrum',\n",
       " 'annotate',\n",
       " 'apply_aspect',\n",
       " 'arrow',\n",
       " 'artists',\n",
       " 'autoscale',\n",
       " 'autoscale_view',\n",
       " 'axes',\n",
       " 'axhline',\n",
       " 'axhspan',\n",
       " 'axis',\n",
       " 'axison',\n",
       " 'axline',\n",
       " 'axvline',\n",
       " 'axvspan',\n",
       " 'bar',\n",
       " 'bar_label',\n",
       " 'barbs',\n",
       " 'barh',\n",
       " 'bbox',\n",
       " 'boxplot',\n",
       " 'broken_barh',\n",
       " 'bxp',\n",
       " 'callbacks',\n",
       " 'can_pan',\n",
       " 'can_zoom',\n",
       " 'child_axes',\n",
       " 'cla',\n",
       " 'clabel',\n",
       " 'clear',\n",
       " 'clipbox',\n",
       " 'cohere',\n",
       " 'collections',\n",
       " 'containers',\n",
       " 'contains',\n",
       " 'contains_point',\n",
       " 'contour',\n",
       " 'contourf',\n",
       " 'convert_xunits',\n",
       " 'convert_yunits',\n",
       " 'csd',\n",
       " 'dataLim',\n",
       " 'drag_pan',\n",
       " 'draw',\n",
       " 'draw_artist',\n",
       " 'end_pan',\n",
       " 'errorbar',\n",
       " 'eventplot',\n",
       " 'figure',\n",
       " 'fill',\n",
       " 'fill_between',\n",
       " 'fill_betweenx',\n",
       " 'findobj',\n",
       " 'fmt_xdata',\n",
       " 'fmt_ydata',\n",
       " 'format_coord',\n",
       " 'format_cursor_data',\n",
       " 'format_xdata',\n",
       " 'format_ydata',\n",
       " 'get_adjustable',\n",
       " 'get_agg_filter',\n",
       " 'get_alpha',\n",
       " 'get_anchor',\n",
       " 'get_animated',\n",
       " 'get_aspect',\n",
       " 'get_autoscale_on',\n",
       " 'get_autoscalex_on',\n",
       " 'get_autoscaley_on',\n",
       " 'get_axes_locator',\n",
       " 'get_axisbelow',\n",
       " 'get_box_aspect',\n",
       " 'get_children',\n",
       " 'get_clip_box',\n",
       " 'get_clip_on',\n",
       " 'get_clip_path',\n",
       " 'get_cursor_data',\n",
       " 'get_data_ratio',\n",
       " 'get_default_bbox_extra_artists',\n",
       " 'get_facecolor',\n",
       " 'get_fc',\n",
       " 'get_figure',\n",
       " 'get_frame_on',\n",
       " 'get_gid',\n",
       " 'get_gridspec',\n",
       " 'get_images',\n",
       " 'get_in_layout',\n",
       " 'get_label',\n",
       " 'get_legend',\n",
       " 'get_legend_handles_labels',\n",
       " 'get_lines',\n",
       " 'get_mouseover',\n",
       " 'get_navigate',\n",
       " 'get_navigate_mode',\n",
       " 'get_path_effects',\n",
       " 'get_picker',\n",
       " 'get_position',\n",
       " 'get_rasterization_zorder',\n",
       " 'get_rasterized',\n",
       " 'get_renderer_cache',\n",
       " 'get_shared_x_axes',\n",
       " 'get_shared_y_axes',\n",
       " 'get_sketch_params',\n",
       " 'get_snap',\n",
       " 'get_subplotspec',\n",
       " 'get_tightbbox',\n",
       " 'get_title',\n",
       " 'get_transform',\n",
       " 'get_transformed_clip_path_and_affine',\n",
       " 'get_url',\n",
       " 'get_visible',\n",
       " 'get_window_extent',\n",
       " 'get_xaxis',\n",
       " 'get_xaxis_text1_transform',\n",
       " 'get_xaxis_text2_transform',\n",
       " 'get_xaxis_transform',\n",
       " 'get_xbound',\n",
       " 'get_xgridlines',\n",
       " 'get_xlabel',\n",
       " 'get_xlim',\n",
       " 'get_xmajorticklabels',\n",
       " 'get_xminorticklabels',\n",
       " 'get_xscale',\n",
       " 'get_xticklabels',\n",
       " 'get_xticklines',\n",
       " 'get_xticks',\n",
       " 'get_yaxis',\n",
       " 'get_yaxis_text1_transform',\n",
       " 'get_yaxis_text2_transform',\n",
       " 'get_yaxis_transform',\n",
       " 'get_ybound',\n",
       " 'get_ygridlines',\n",
       " 'get_ylabel',\n",
       " 'get_ylim',\n",
       " 'get_ymajorticklabels',\n",
       " 'get_yminorticklabels',\n",
       " 'get_yscale',\n",
       " 'get_yticklabels',\n",
       " 'get_yticklines',\n",
       " 'get_yticks',\n",
       " 'get_zorder',\n",
       " 'grid',\n",
       " 'has_data',\n",
       " 'have_units',\n",
       " 'hexbin',\n",
       " 'hist',\n",
       " 'hist2d',\n",
       " 'hlines',\n",
       " 'ignore_existing_data_limits',\n",
       " 'images',\n",
       " 'imshow',\n",
       " 'in_axes',\n",
       " 'indicate_inset',\n",
       " 'indicate_inset_zoom',\n",
       " 'inset_axes',\n",
       " 'invert_xaxis',\n",
       " 'invert_yaxis',\n",
       " 'is_transform_set',\n",
       " 'label_outer',\n",
       " 'legend',\n",
       " 'legend_',\n",
       " 'lines',\n",
       " 'locator_params',\n",
       " 'loglog',\n",
       " 'magnitude_spectrum',\n",
       " 'margins',\n",
       " 'matshow',\n",
       " 'minorticks_off',\n",
       " 'minorticks_on',\n",
       " 'mouseover',\n",
       " 'name',\n",
       " 'patch',\n",
       " 'patches',\n",
       " 'pchanged',\n",
       " 'pcolor',\n",
       " 'pcolorfast',\n",
       " 'pcolormesh',\n",
       " 'phase_spectrum',\n",
       " 'pick',\n",
       " 'pickable',\n",
       " 'pie',\n",
       " 'plot',\n",
       " 'plot_date',\n",
       " 'properties',\n",
       " 'psd',\n",
       " 'quiver',\n",
       " 'quiverkey',\n",
       " 'redraw_in_frame',\n",
       " 'relim',\n",
       " 'remove',\n",
       " 'remove_callback',\n",
       " 'reset_position',\n",
       " 'scatter',\n",
       " 'secondary_xaxis',\n",
       " 'secondary_yaxis',\n",
       " 'semilogx',\n",
       " 'semilogy',\n",
       " 'set',\n",
       " 'set_adjustable',\n",
       " 'set_agg_filter',\n",
       " 'set_alpha',\n",
       " 'set_anchor',\n",
       " 'set_animated',\n",
       " 'set_aspect',\n",
       " 'set_autoscale_on',\n",
       " 'set_autoscalex_on',\n",
       " 'set_autoscaley_on',\n",
       " 'set_axes_locator',\n",
       " 'set_axis_off',\n",
       " 'set_axis_on',\n",
       " 'set_axisbelow',\n",
       " 'set_box_aspect',\n",
       " 'set_clip_box',\n",
       " 'set_clip_on',\n",
       " 'set_clip_path',\n",
       " 'set_facecolor',\n",
       " 'set_fc',\n",
       " 'set_figure',\n",
       " 'set_frame_on',\n",
       " 'set_gid',\n",
       " 'set_in_layout',\n",
       " 'set_label',\n",
       " 'set_mouseover',\n",
       " 'set_navigate',\n",
       " 'set_navigate_mode',\n",
       " 'set_path_effects',\n",
       " 'set_picker',\n",
       " 'set_position',\n",
       " 'set_prop_cycle',\n",
       " 'set_rasterization_zorder',\n",
       " 'set_rasterized',\n",
       " 'set_sketch_params',\n",
       " 'set_snap',\n",
       " 'set_subplotspec',\n",
       " 'set_title',\n",
       " 'set_transform',\n",
       " 'set_url',\n",
       " 'set_visible',\n",
       " 'set_xbound',\n",
       " 'set_xlabel',\n",
       " 'set_xlim',\n",
       " 'set_xmargin',\n",
       " 'set_xscale',\n",
       " 'set_xticklabels',\n",
       " 'set_xticks',\n",
       " 'set_ybound',\n",
       " 'set_ylabel',\n",
       " 'set_ylim',\n",
       " 'set_ymargin',\n",
       " 'set_yscale',\n",
       " 'set_yticklabels',\n",
       " 'set_yticks',\n",
       " 'set_zorder',\n",
       " 'sharex',\n",
       " 'sharey',\n",
       " 'specgram',\n",
       " 'spines',\n",
       " 'spy',\n",
       " 'stackplot',\n",
       " 'stairs',\n",
       " 'stale',\n",
       " 'stale_callback',\n",
       " 'start_pan',\n",
       " 'stem',\n",
       " 'step',\n",
       " 'sticky_edges',\n",
       " 'streamplot',\n",
       " 'table',\n",
       " 'tables',\n",
       " 'text',\n",
       " 'texts',\n",
       " 'tick_params',\n",
       " 'ticklabel_format',\n",
       " 'title',\n",
       " 'titleOffsetTrans',\n",
       " 'transAxes',\n",
       " 'transData',\n",
       " 'transLimits',\n",
       " 'transScale',\n",
       " 'tricontour',\n",
       " 'tricontourf',\n",
       " 'tripcolor',\n",
       " 'triplot',\n",
       " 'twinx',\n",
       " 'twiny',\n",
       " 'update',\n",
       " 'update_datalim',\n",
       " 'update_from',\n",
       " 'use_sticky_edges',\n",
       " 'viewLim',\n",
       " 'violin',\n",
       " 'violinplot',\n",
       " 'vlines',\n",
       " 'xaxis',\n",
       " 'xaxis_date',\n",
       " 'xaxis_inverted',\n",
       " 'xcorr',\n",
       " 'yaxis',\n",
       " 'yaxis_date',\n",
       " 'yaxis_inverted',\n",
       " 'zorder']"
      ]
     },
     "execution_count": 213,
     "metadata": {},
     "output_type": "execute_result"
    }
   ],
   "source": [
    "dir(ax00)"
   ]
  },
  {
   "cell_type": "code",
   "execution_count": 214,
   "id": "13925756",
   "metadata": {},
   "outputs": [
    {
     "data": {
      "image/png": "[encoded data removed]",
      "text/plain": [
       "<Figure size 550x350 with 5 Axes>"
      ]
     },
     "metadata": {},
     "output_type": "display_data"
    }
   ],
   "source": [
    "def annotate_axes(ax, text, fontsize=18):\n",
    "    ax.text(0.5, 0.5, text, transform=ax.transAxes,\n",
    "            ha=\"center\", va=\"center\", fontsize=fontsize, color=\"darkgrey\")\n",
    "    \n",
    "    \n",
    "fig = plt.figure(figsize=(5.5, 3.5), layout=\"constrained\")\n",
    "spec = fig.add_gridspec(3, 2)\n",
    "\n",
    "ax00 = fig.add_subplot(spec[0, :])\n",
    "ax00.grid(False)\n",
    "ax00.set_axis_off()\n",
    "annotate_axes(ax00, 'ax00')\n",
    "\n",
    "ax10 = fig.add_subplot(spec[1, 0])\n",
    "annotate_axes(ax10, 'ax10')\n",
    "\n",
    "ax11 = fig.add_subplot(spec[1, 1])\n",
    "annotate_axes(ax11, 'ax11')\n",
    "\n",
    "ax20 = fig.add_subplot(spec[2, 0])\n",
    "annotate_axes(ax20, 'ax20')\n",
    "\n",
    "ax21 = fig.add_subplot(spec[2, 1])\n",
    "annotate_axes(ax21, 'ax21')\n",
    "\n",
    "\n",
    "fig.suptitle('Manually added subplots, spanning a column');\n"
   ]
  },
  {
   "cell_type": "code",
   "execution_count": 86,
   "id": "da370f26",
   "metadata": {},
   "outputs": [
    {
     "data": {
      "text/plain": [
       "4"
      ]
     },
     "execution_count": 86,
     "metadata": {},
     "output_type": "execute_result"
    }
   ],
   "source": [
    "with open('dataset/scraped_urls.json', 'r') as f:\n",
    "    scraped_urls = json.load(f)\n",
    "len(scraped_urls) - 350100 * 7"
   ]
  },
  {
   "cell_type": "code",
   "execution_count": 124,
   "id": "861eb310",
   "metadata": {},
   "outputs": [],
   "source": [
    "# with open('dataset/wiki_text.txt','w')  as f:\n",
    "#     f.write('')\n",
    "\n",
    "with open('dataset/wiki_text.txt','a')  as f:\n",
    "    json.dump([1,2,3], f)\n",
    "    f.write(', ')\n"
   ]
  },
  {
   "cell_type": "code",
   "execution_count": 125,
   "id": "d72adb71",
   "metadata": {},
   "outputs": [
    {
     "ename": "JSONDecodeError",
     "evalue": "Extra data: line 1 column 10 (char 9)",
     "output_type": "error",
     "traceback": [
      "\u001b[0;31m---------------------------------------------------------------------------\u001b[0m",
      "\u001b[0;31mJSONDecodeError\u001b[0m                           Traceback (most recent call last)",
      "Cell \u001b[0;32mIn[125], line 2\u001b[0m\n\u001b[1;32m      1\u001b[0m \u001b[38;5;28;01mwith\u001b[39;00m \u001b[38;5;28mopen\u001b[39m(\u001b[38;5;124m'\u001b[39m\u001b[38;5;124mdataset/wiki_text.txt\u001b[39m\u001b[38;5;124m'\u001b[39m,\u001b[38;5;124m'\u001b[39m\u001b[38;5;124mr\u001b[39m\u001b[38;5;124m'\u001b[39m)  \u001b[38;5;28;01mas\u001b[39;00m f:\n\u001b[0;32m----> 2\u001b[0m     a \u001b[38;5;241m=\u001b[39m \u001b[43mjson\u001b[49m\u001b[38;5;241;43m.\u001b[39;49m\u001b[43mload\u001b[49m\u001b[43m(\u001b[49m\u001b[43mf\u001b[49m\u001b[43m)\u001b[49m\n\u001b[1;32m      3\u001b[0m a\n",
      "File \u001b[0;32m~/.conda/envs/torch/lib/python3.8/json/__init__.py:293\u001b[0m, in \u001b[0;36mload\u001b[0;34m(fp, cls, object_hook, parse_float, parse_int, parse_constant, object_pairs_hook, **kw)\u001b[0m\n\u001b[1;32m    274\u001b[0m \u001b[38;5;28;01mdef\u001b[39;00m \u001b[38;5;21mload\u001b[39m(fp, \u001b[38;5;241m*\u001b[39m, \u001b[38;5;28mcls\u001b[39m\u001b[38;5;241m=\u001b[39m\u001b[38;5;28;01mNone\u001b[39;00m, object_hook\u001b[38;5;241m=\u001b[39m\u001b[38;5;28;01mNone\u001b[39;00m, parse_float\u001b[38;5;241m=\u001b[39m\u001b[38;5;28;01mNone\u001b[39;00m,\n\u001b[1;32m    275\u001b[0m         parse_int\u001b[38;5;241m=\u001b[39m\u001b[38;5;28;01mNone\u001b[39;00m, parse_constant\u001b[38;5;241m=\u001b[39m\u001b[38;5;28;01mNone\u001b[39;00m, object_pairs_hook\u001b[38;5;241m=\u001b[39m\u001b[38;5;28;01mNone\u001b[39;00m, \u001b[38;5;241m*\u001b[39m\u001b[38;5;241m*\u001b[39mkw):\n\u001b[1;32m    276\u001b[0m \u001b[38;5;250m    \u001b[39m\u001b[38;5;124;03m\"\"\"Deserialize ``fp`` (a ``.read()``-supporting file-like object containing\u001b[39;00m\n\u001b[1;32m    277\u001b[0m \u001b[38;5;124;03m    a JSON document) to a Python object.\u001b[39;00m\n\u001b[1;32m    278\u001b[0m \n\u001b[0;32m   (...)\u001b[0m\n\u001b[1;32m    291\u001b[0m \u001b[38;5;124;03m    kwarg; otherwise ``JSONDecoder`` is used.\u001b[39;00m\n\u001b[1;32m    292\u001b[0m \u001b[38;5;124;03m    \"\"\"\u001b[39;00m\n\u001b[0;32m--> 293\u001b[0m     \u001b[38;5;28;01mreturn\u001b[39;00m \u001b[43mloads\u001b[49m\u001b[43m(\u001b[49m\u001b[43mfp\u001b[49m\u001b[38;5;241;43m.\u001b[39;49m\u001b[43mread\u001b[49m\u001b[43m(\u001b[49m\u001b[43m)\u001b[49m\u001b[43m,\u001b[49m\n\u001b[1;32m    294\u001b[0m \u001b[43m        \u001b[49m\u001b[38;5;28;43mcls\u001b[39;49m\u001b[38;5;241;43m=\u001b[39;49m\u001b[38;5;28;43mcls\u001b[39;49m\u001b[43m,\u001b[49m\u001b[43m \u001b[49m\u001b[43mobject_hook\u001b[49m\u001b[38;5;241;43m=\u001b[39;49m\u001b[43mobject_hook\u001b[49m\u001b[43m,\u001b[49m\n\u001b[1;32m    295\u001b[0m \u001b[43m        \u001b[49m\u001b[43mparse_float\u001b[49m\u001b[38;5;241;43m=\u001b[39;49m\u001b[43mparse_float\u001b[49m\u001b[43m,\u001b[49m\u001b[43m \u001b[49m\u001b[43mparse_int\u001b[49m\u001b[38;5;241;43m=\u001b[39;49m\u001b[43mparse_int\u001b[49m\u001b[43m,\u001b[49m\n\u001b[1;32m    296\u001b[0m \u001b[43m        \u001b[49m\u001b[43mparse_constant\u001b[49m\u001b[38;5;241;43m=\u001b[39;49m\u001b[43mparse_constant\u001b[49m\u001b[43m,\u001b[49m\u001b[43m \u001b[49m\u001b[43mobject_pairs_hook\u001b[49m\u001b[38;5;241;43m=\u001b[39;49m\u001b[43mobject_pairs_hook\u001b[49m\u001b[43m,\u001b[49m\u001b[43m \u001b[49m\u001b[38;5;241;43m*\u001b[39;49m\u001b[38;5;241;43m*\u001b[39;49m\u001b[43mkw\u001b[49m\u001b[43m)\u001b[49m\n",
      "File \u001b[0;32m~/.conda/envs/torch/lib/python3.8/json/__init__.py:357\u001b[0m, in \u001b[0;36mloads\u001b[0;34m(s, cls, object_hook, parse_float, parse_int, parse_constant, object_pairs_hook, **kw)\u001b[0m\n\u001b[1;32m    352\u001b[0m     \u001b[38;5;28;01mdel\u001b[39;00m kw[\u001b[38;5;124m'\u001b[39m\u001b[38;5;124mencoding\u001b[39m\u001b[38;5;124m'\u001b[39m]\n\u001b[1;32m    354\u001b[0m \u001b[38;5;28;01mif\u001b[39;00m (\u001b[38;5;28mcls\u001b[39m \u001b[38;5;129;01mis\u001b[39;00m \u001b[38;5;28;01mNone\u001b[39;00m \u001b[38;5;129;01mand\u001b[39;00m object_hook \u001b[38;5;129;01mis\u001b[39;00m \u001b[38;5;28;01mNone\u001b[39;00m \u001b[38;5;129;01mand\u001b[39;00m\n\u001b[1;32m    355\u001b[0m         parse_int \u001b[38;5;129;01mis\u001b[39;00m \u001b[38;5;28;01mNone\u001b[39;00m \u001b[38;5;129;01mand\u001b[39;00m parse_float \u001b[38;5;129;01mis\u001b[39;00m \u001b[38;5;28;01mNone\u001b[39;00m \u001b[38;5;129;01mand\u001b[39;00m\n\u001b[1;32m    356\u001b[0m         parse_constant \u001b[38;5;129;01mis\u001b[39;00m \u001b[38;5;28;01mNone\u001b[39;00m \u001b[38;5;129;01mand\u001b[39;00m object_pairs_hook \u001b[38;5;129;01mis\u001b[39;00m \u001b[38;5;28;01mNone\u001b[39;00m \u001b[38;5;129;01mand\u001b[39;00m \u001b[38;5;129;01mnot\u001b[39;00m kw):\n\u001b[0;32m--> 357\u001b[0m     \u001b[38;5;28;01mreturn\u001b[39;00m \u001b[43m_default_decoder\u001b[49m\u001b[38;5;241;43m.\u001b[39;49m\u001b[43mdecode\u001b[49m\u001b[43m(\u001b[49m\u001b[43ms\u001b[49m\u001b[43m)\u001b[49m\n\u001b[1;32m    358\u001b[0m \u001b[38;5;28;01mif\u001b[39;00m \u001b[38;5;28mcls\u001b[39m \u001b[38;5;129;01mis\u001b[39;00m \u001b[38;5;28;01mNone\u001b[39;00m:\n\u001b[1;32m    359\u001b[0m     \u001b[38;5;28mcls\u001b[39m \u001b[38;5;241m=\u001b[39m JSONDecoder\n",
      "File \u001b[0;32m~/.conda/envs/torch/lib/python3.8/json/decoder.py:340\u001b[0m, in \u001b[0;36mJSONDecoder.decode\u001b[0;34m(self, s, _w)\u001b[0m\n\u001b[1;32m    338\u001b[0m end \u001b[38;5;241m=\u001b[39m _w(s, end)\u001b[38;5;241m.\u001b[39mend()\n\u001b[1;32m    339\u001b[0m \u001b[38;5;28;01mif\u001b[39;00m end \u001b[38;5;241m!=\u001b[39m \u001b[38;5;28mlen\u001b[39m(s):\n\u001b[0;32m--> 340\u001b[0m     \u001b[38;5;28;01mraise\u001b[39;00m JSONDecodeError(\u001b[38;5;124m\"\u001b[39m\u001b[38;5;124mExtra data\u001b[39m\u001b[38;5;124m\"\u001b[39m, s, end)\n\u001b[1;32m    341\u001b[0m \u001b[38;5;28;01mreturn\u001b[39;00m obj\n",
      "\u001b[0;31mJSONDecodeError\u001b[0m: Extra data: line 1 column 10 (char 9)"
     ]
    }
   ],
   "source": [
    "with open('dataset/wiki_text.txt','r')  as f:\n",
    "    a = json.load(f)\n",
    "a"
   ]
  },
  {
   "cell_type": "code",
   "execution_count": null,
   "id": "7250967a",
   "metadata": {},
   "outputs": [],
   "source": [
    "(0, 0.1), (x0, 1)\n",
    "y = m * x + c\n",
    "\n",
    "y = m * x + c\n",
    "1 = m * x0 + 0.1\n",
    "m = (1 - c) / x0\n",
    "\n",
    "\n"
   ]
  },
  {
   "cell_type": "code",
   "execution_count": 56,
   "id": "269d90b4",
   "metadata": {},
   "outputs": [
    {
     "data": {
      "text/plain": [
       "(0.0, 1.0449998575677009)"
      ]
     },
     "execution_count": 56,
     "metadata": {},
     "output_type": "execute_result"
    },
    {
     "data": {
      "image/png": "[encoded data removed]",
      "text/plain": [
       "<Figure size 900x350 with 1 Axes>"
      ]
     },
     "metadata": {},
     "output_type": "display_data"
    }
   ],
   "source": [
    "\n",
    "c = 0.065\n",
    "x1 = x1 // 3\n",
    "m = (1 - c) / x1 * x\n",
    "\n",
    "\n",
    "y = m * x + c\n",
    "\n",
    "\n",
    "\n",
    "x0 = .375e6\n",
    "x1 = 26e6\n",
    "\n",
    "for x in np.linspace(0, 2*x1, 3001):\n",
    "    if x < x0:\n",
    "        y = .9 * x / x0 + 0.1 \n",
    "    elif x0 <= x < x1:\n",
    "        b = 9 / (x1 - x0)\n",
    "        a = (x0 * (1 - b)) / b \n",
    "        y = 1 / (b*(x + a) - x0 + 1) \n",
    "        \n",
    "        T = (x1 - x0) * 2\n",
    "        A = .5 * .9\n",
    "        y = A * np.cos(2 * np.pi * (x - x0) / T) + 0.55    \n",
    "    elif x1 <= x:\n",
    "        y = .1\n",
    "\n",
    "    plt.plot(x, y, 'k.')\n",
    "\n",
    "plt.ylim(0)\n",
    "\n",
    "\n"
   ]
  },
  {
   "cell_type": "code",
   "execution_count": 283,
   "id": "661a7ee7",
   "metadata": {},
   "outputs": [],
   "source": [
    "from torch import distributed as dist \n",
    "\n",
    "dist.all_gather_object??"
   ]
  },
  {
   "cell_type": "code",
   "execution_count": 29,
   "id": "4c1510dd",
   "metadata": {
    "scrolled": true
   },
   "outputs": [
    {
     "name": "stdout",
     "output_type": "stream",
     "text": [
      " 20495 \" starring\"\n",
      " 49411 \" trout\"\n",
      " 40089 \" Carlo\"\n",
      "  7319 \" thousand\"\n",
      " 43220 \"cour\"\n",
      " 19096 \" bracket\"\n",
      " 32294 \" Jiang\"\n",
      " 34496 \" Astral\"\n",
      " 35423 \" realms\"\n",
      " 38467 \" fungi\"\n",
      " 26555 \" triggering\"\n",
      " 32908 \" hairs\"\n",
      " 32511 \"ojure\"\n",
      " 26124 \"design\"\n",
      " 39232 \"Repl\"\n",
      "  8614 \" ||\"\n",
      " 43185 \" pioneered\"\n",
      " 33676 \"ROM\"\n",
      " 32261 \" gag\"\n",
      " 48823 \" Portsmouth\"\n",
      " 42666 \" babe\"\n",
      " 41142 \" Dracula\"\n",
      " 35291 \"ervatives\"\n",
      " 42843 \" Seymour\"\n",
      " 47958 \" Whitman\"\n",
      " 35989 \" 243\"\n",
      "  1283 \" seem\"\n",
      " 10621 \"eals\"\n",
      " 18953 \" malware\"\n",
      " 32515 \"pixel\"\n",
      "  4533 \"ado\"\n",
      " 13744 \"incial\"\n",
      "  2803 \" estab\"\n",
      "  5815 \"ÃÂÃÂ\"\n",
      "  1470 \"raph\"\n",
      " 48663 \" Aki\"\n",
      " 46700 \"FIL\"\n",
      " 46622 \" failings\"\n",
      " 22212 \" Hex\"\n",
      " 37095 \" unilateral\"\n",
      " 46115 \"require\"\n",
      " 46193 \" Detention\"\n",
      " 15716 \" Vent\"\n",
      " 48352 \" Louie\"\n",
      " 35556 \" fascination\"\n",
      " 14615 \" deciding\"\n",
      " 42013 \" redeemed\"\n",
      " 24876 \"Eye\"\n",
      " 34151 \" Reef\"\n",
      " 29206 \" eg\"\n",
      " 26442 \"DAY\"\n",
      " 12849 \" Size\"\n",
      " 22257 \" Abe\"\n",
      " 19408 \" Arrow\"\n",
      "  7919 \"prise\"\n",
      " 36046 \"Jump\"\n",
      " 20098 \"rentice\"\n",
      " 41717 \" 660\"\n",
      "  9245 \" kiss\"\n",
      " 20317 \"ū\"\n",
      "   844 \"ix\"\n",
      "  9282 \"archy\"\n",
      " 36508 \" Lester\"\n",
      " 29395 \" slick\"\n",
      " 22175 \" pastor\"\n",
      " 10360 \" pros\"\n",
      " 42891 \" testers\"\n",
      "  7335 \"alo\"\n",
      " 14269 \"stat\"\n",
      " 27181 \" wheelchair\"\n",
      " 13830 \" elderly\"\n",
      " 17120 \" offenders\"\n",
      " 38657 \" Identification\"\n",
      " 19437 \" scare\"\n",
      " 27665 \" approximate\"\n",
      " 10279 \" Kick\"\n",
      " 15127 \" NVIDIA\"\n",
      " 11127 \"ibraries\"\n",
      " 45460 \" inequalities\"\n",
      "   670 \" work\"\n",
      " 48202 \" Jeanne\"\n",
      " 43781 \"OLOGY\"\n",
      " 23305 \" notor\"\n",
      " 18271 \" Vit\"\n",
      " 48503 \" Baird\"\n",
      " 14872 \" Magn\"\n",
      " 19809 \" Related\"\n",
      " 14628 \" Happy\"\n",
      " 12502 \"Action\"\n",
      " 47213 \"Environmental\"\n",
      " 29185 \" incarnation\"\n",
      " 37776 \"Ian\"\n",
      " 35108 \" replicated\"\n",
      " 40601 \" Psal\"\n",
      " 44291 \" Amar\"\n",
      " 24348 \" richest\"\n",
      "  5452 \" Fe\"\n",
      "  7035 \" authors\"\n",
      " 42328 \" Papa\"\n",
      "  1994 \" key\"\n",
      " starring trout Carlo thousandcour bracket Jiang Astral realms fungi triggering hairsojuredesignRepl || pioneeredROM gag Portsmouth babe Draculaervatives Seymour Whitman 243 seemeals malwarepixeladoincial estabÃÂÃÂraph AkiFIL failings Hex unilateralrequire Detention Vent Louie fascination deciding redeemedEye Reef egDAY Size Abe ArrowpriseJumprentice 660 kissūixarchy Lester slick pastor pros testersalostat wheelchair elderly offenders Identification scare approximate Kick NVIDIAibraries inequalities work JeanneOLOGY notor Vit Baird Magn Related HappyActionEnvironmental incarnationIan replicated Psal Amar richest Fe authors Papa key\n"
     ]
    }
   ],
   "source": [
    "tokens = np.random.choice(range(enc.n_vocab), 100)\n",
    "for tok in (tokens):\n",
    "    print(f'{tok:6d} \"{enc.decode([tok])}\"')\n",
    "    \n",
    "text = enc.decode(tokens)\n",
    "print(text)"
   ]
  },
  {
   "cell_type": "code",
   "execution_count": 38,
   "id": "b11a3fe4",
   "metadata": {},
   "outputs": [
    {
     "name": "stdout",
     "output_type": "stream",
     "text": [
      "[12502]\n",
      "Action\n"
     ]
    }
   ],
   "source": [
    "import tiktoken \n",
    "from tiktoken_ext.openai_public import ENCODING_CONSTRUCTORS\n",
    "encFunc = ENCODING_CONSTRUCTORS['gpt2']\n",
    "encDict = encFunc()\n",
    "enc = tiktoken.Encoding(encDict['name'],\n",
    "                        pat_str=encDict['pat_str'],\n",
    "                        mergeable_ranks=encDict['mergeable_ranks'],\n",
    "                        special_tokens=encDict['special_tokens' ])\n",
    "import torch\n",
    "vocab_size = enc.n_vocab\n",
    "\n",
    "idx = torch.ones((1,1), dtype=torch.long) * 35\n",
    "\n",
    "tokens = enc.encode('Action') \n",
    "print(tokens)\n",
    "for item in tokens:\n",
    "    print(enc.decode([item])) "
   ]
  },
  {
   "cell_type": "code",
   "execution_count": 8,
   "id": "6bc965a1",
   "metadata": {},
   "outputs": [
    {
     "data": {
      "text/plain": [
       "tensor([[5317,   78,  262, 6947,  757]], device='cuda:0')"
      ]
     },
     "execution_count": 8,
     "metadata": {},
     "output_type": "execute_result"
    }
   ],
   "source": [
    "seed_text = 'Into the flood again'\n",
    "seed_tokens = enc.encode(seed_text)\n",
    "seed_tokens = torch.as_tensor([seed_tokens], device=0, dtype=torch.long)\n",
    "seed_tokens"
   ]
  },
  {
   "cell_type": "code",
   "execution_count": 35,
   "id": "d03026f2",
   "metadata": {},
   "outputs": [
    {
     "data": {
      "text/plain": [
       "tensor([[35]])"
      ]
     },
     "execution_count": 35,
     "metadata": {},
     "output_type": "execute_result"
    }
   ],
   "source": [
    "torch.ones((1,1), dtype=torch.long) * 35"
   ]
  },
  {
   "cell_type": "code",
   "execution_count": 13,
   "id": "f9938d04",
   "metadata": {},
   "outputs": [],
   "source": [
    "url = new_links.pop(0)\n",
    "# shuffle new_links in place\n",
    "random.shuffle(new_links)\n",
    "\n",
    "text, html, num_chars = extract_single_url(url, visited_urls, num_chars)\n",
    "new_links.extend(get_links(html, new_links, visited_urls))\n",
    "train_data.append(torch.tensor(encode(text), dtype=torch.long))\n"
   ]
  },
  {
   "cell_type": "code",
   "execution_count": 111,
   "id": "fc9706fb",
   "metadata": {},
   "outputs": [
    {
     "data": {
      "image/png": "[encoded data removed]",
      "text/plain": [
       "<Figure size 566.3x350 with 1 Axes>"
      ]
     },
     "metadata": {},
     "output_type": "display_data"
    }
   ],
   "source": [
    "plotter(list_num_tokens, list_losses, list_num_tokens_eval, list_losses_eval, savefig=True)\n"
   ]
  },
  {
   "cell_type": "markdown",
   "id": "41966359",
   "metadata": {},
   "source": [
    "## 2. Experiments\n",
    "---"
   ]
  },
  {
   "cell_type": "code",
   "execution_count": 2,
   "id": "c9c383da",
   "metadata": {
    "scrolled": false
   },
   "outputs": [
    {
     "data": {
      "image/png": "[encoded data removed]",
      "text/plain": [
       "<Figure size 1800x400 with 1 Axes>"
      ]
     },
     "metadata": {},
     "output_type": "display_data"
    }
   ],
   "source": [
    "dirname='dataset/repo_wiki/'\n",
    "fnames = sorted(glob.glob(f'{dirname}/*pkl'))\n",
    "wikis = dict()\n",
    "for fname in fnames:\n",
    "    with open(fname, 'rb') as f:\n",
    "        wikis.update(pickle.load(f)) \n",
    "\n",
    "urls = list(wikis.keys())\n",
    "out = [(len(wikis[url])) for url in (urls)]\n",
    "x, y, patches  = plt.hist(out, bins=80, log=True); plt.xlabel('number of characters'); \n",
    "plt.title(f'No of urls:{len(urls)},   MIN:{min(out)},   MAX:{max(out)}');\n"
   ]
  },
  {
   "cell_type": "code",
   "execution_count": 3,
   "id": "9fc222e8",
   "metadata": {},
   "outputs": [
    {
     "name": "stdout",
     "output_type": "stream",
     "text": [
      "900 of 1000\r"
     ]
    },
    {
     "name": "stderr",
     "output_type": "stream",
     "text": [
      "/data/home/osafak/.conda/envs/pt_env/lib/python3.8/site-packages/IPython/core/events.py:89: UserWarning: Glyph 9 (\t) missing from current font.\n",
      "  func(*args, **kwargs)\n",
      "/data/home/osafak/.conda/envs/pt_env/lib/python3.8/site-packages/IPython/core/pylabtools.py:152: UserWarning: Glyph 9 (\t) missing from current font.\n",
      "  fig.canvas.print_figure(bytes_io, **kw)\n"
     ]
    },
    {
     "data": {
      "image/png": "[encoded data removed]",
      "text/plain": [
       "<Figure size 1800x400 with 1 Axes>"
      ]
     },
     "metadata": {},
     "output_type": "display_data"
    }
   ],
   "source": [
    "cnt = plot_character_frequency(urls[:1000], wikis)"
   ]
  }
 ],
 "metadata": {
  "kernelspec": {
   "display_name": "Python 3 (ipykernel)",
   "language": "python",
   "name": "python3"
  },
  "language_info": {
   "codemirror_mode": {
    "name": "ipython",
    "version": 3
   },
   "file_extension": ".py",
   "mimetype": "text/x-python",
   "name": "python",
   "nbconvert_exporter": "python",
   "pygments_lexer": "ipython3",
   "version": "3.8.16"
  }
 },
 "nbformat": 4,
 "nbformat_minor": 5
}
